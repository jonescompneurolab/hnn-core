{
 "cells": [
  {
   "cell_type": "code",
   "execution_count": null,
   "id": "2b8ad740",
   "metadata": {},
   "outputs": [],
   "source": [
    "%load_ext autoreload\n",
    "%autoreload 2"
   ]
  },
  {
   "cell_type": "code",
   "execution_count": null,
   "id": "2eba55b1-2ab7-4f07-a76c-34f5a184da4d",
   "metadata": {},
   "outputs": [],
   "source": [
    "import time\n",
    "from hnn_core.gui.gui import HNNGUI\n",
    "from ipywidgets import Output\n",
    "from IPython.display import Javascript\n",
    "\n",
    "# do not mix this with GUI operations\n",
    "gui = HNNGUI()"
   ]
  },
  {
   "cell_type": "code",
   "execution_count": null,
   "id": "norwegian-angola",
   "metadata": {
    "require": [
     "html2canvas"
    ],
    "scrolled": true
   },
   "outputs": [],
   "source": [
    "gui.compose(return_layout=False)"
   ]
  },
  {
   "cell_type": "code",
   "execution_count": null,
   "id": "0cda6c80-b159-443f-a425-1da555784bc8",
   "metadata": {},
   "outputs": [],
   "source": [
    "gui.take_screenshot(width=1380, height=600)"
   ]
  },
  {
   "cell_type": "code",
   "execution_count": null,
   "id": "d39f7169",
   "metadata": {},
   "outputs": [],
   "source": [
    "gui.app_layout.left_sidebar.selected_index = 2"
   ]
  },
  {
   "cell_type": "code",
   "execution_count": null,
   "id": "86b15f2c-fb02-46aa-a4ce-69030a8fcf32",
   "metadata": {
    "scrolled": true
   },
   "outputs": [],
   "source": [
    "gui.take_screenshot()"
   ]
  },
  {
   "cell_type": "code",
   "execution_count": null,
   "id": "7889c5ef-4e2c-439f-82a7-9b075440d799",
   "metadata": {},
   "outputs": [],
   "source": [
    "gui.run_button.click()"
   ]
  },
  {
   "cell_type": "code",
   "execution_count": null,
   "id": "87b85cc9-097b-45fa-b4e1-643bd08dd356",
   "metadata": {
    "scrolled": true
   },
   "outputs": [],
   "source": [
    "gui.take_screenshot()"
   ]
  },
  {
   "cell_type": "code",
   "execution_count": null,
   "id": "696e649c",
   "metadata": {},
   "outputs": [],
   "source": [
    "Javascript(gui.run_notebook_cells())"
   ]
  },
  {
   "cell_type": "code",
   "execution_count": null,
   "id": "cfa16d53",
   "metadata": {},
   "outputs": [],
   "source": []
  }
 ],
 "metadata": {
  "finalized": {
   "timestamp": 1659128328299,
   "trusted": true
  },
  "kernelspec": {
   "display_name": "Py38(GSOC22)",
   "language": "python",
   "name": "py38_gsoc22"
  },
  "language_info": {
   "codemirror_mode": {
    "name": "ipython",
    "version": 3
   },
   "file_extension": ".py",
   "mimetype": "text/x-python",
   "name": "python",
   "nbconvert_exporter": "python",
   "pygments_lexer": "ipython3",
   "version": "3.8.12"
  },
  "require": {
   "paths": {
    "html2canvas": "https://html2canvas.hertzen.com/dist/html2canvas"
   },
   "shim": {}
  },
  "vscode": {
   "interpreter": {
    "hash": "43b52e66020a3206304124443c3dbfb478b19fdebbaacdf952e81bd31b11f0ba"
   }
  }
 },
 "nbformat": 4,
 "nbformat_minor": 5
}
