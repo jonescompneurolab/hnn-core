{
 "cells": [
  {
   "cell_type": "code",
   "execution_count": 1,
   "id": "2eba55b1-2ab7-4f07-a76c-34f5a184da4d",
   "metadata": {},
   "outputs": [
    {
     "name": "stderr",
     "output_type": "stream",
     "text": [
      "Warning: no DISPLAY environment variable.\n",
      "--No graphics will be displayed.\n"
     ]
    }
   ],
   "source": [
    "import time\n",
    "from hnn_core.gui.gui import HNNGUI\n",
    "from ipywidgets import Output\n",
    "from IPython.display import Javascript\n"
   ]
  },
  {
   "cell_type": "code",
   "execution_count": 8,
   "id": "norwegian-angola",
   "metadata": {
    "require": [
     "html2canvas"
    ],
    "scrolled": true
   },
   "outputs": [],
   "source": [
    "gui = HNNGUI()\n",
    "gui.compose(return_layout=False)"
   ]
  },
  {
   "cell_type": "code",
   "execution_count": 9,
   "id": "0cda6c80-b159-443f-a425-1da555784bc8",
   "metadata": {},
   "outputs": [
    {
     "data": {
      "text/html": [
       "\n",
       "        <iframe\n",
       "            width=\"1380\"\n",
       "            height=\"600\"\n",
       "            src=\"snapshot_1.html\"\n",
       "            frameborder=\"0\"\n",
       "            allowfullscreen\n",
       "            \n",
       "        ></iframe>\n",
       "        "
      ],
      "text/plain": [
       "<IPython.lib.display.IFrame at 0x7fc8fa41d790>"
      ]
     },
     "metadata": {},
     "output_type": "display_data"
    }
   ],
   "source": [
    "display(gui.render_iframe(width=1380, height=600))"
   ]
  },
  {
   "cell_type": "code",
   "execution_count": null,
   "id": "d39f7169",
   "metadata": {},
   "outputs": [],
   "source": [
    "gui.app_layout.left_sidebar.selected_index = 2"
   ]
  },
  {
   "cell_type": "code",
   "execution_count": null,
   "id": "86b15f2c-fb02-46aa-a4ce-69030a8fcf32",
   "metadata": {},
   "outputs": [],
   "source": [
    "display(gui.render_iframe(width=1200, height=600))"
   ]
  },
  {
   "cell_type": "code",
   "execution_count": null,
   "id": "7889c5ef-4e2c-439f-82a7-9b075440d799",
   "metadata": {},
   "outputs": [],
   "source": [
    "gui.run_button.click()"
   ]
  },
  {
   "cell_type": "code",
   "execution_count": null,
   "id": "87b85cc9-097b-45fa-b4e1-643bd08dd356",
   "metadata": {
    "scrolled": true
   },
   "outputs": [],
   "source": [
    "display(gui.render_iframe(width=1200, height=600))"
   ]
  },
  {
   "cell_type": "code",
   "execution_count": null,
   "id": "696e649c",
   "metadata": {},
   "outputs": [],
   "source": [
    "js_string = \"\"\"\n",
    "\n",
    "function sleep(ms) {\n",
    "  return new Promise(resolve => setTimeout(resolve, ms));\n",
    "}\n",
    "\n",
    "async function runNotebook() {    \n",
    "    const nCells = Jupyter.notebook.element[0].children[0].childElementCount;\n",
    "\n",
    "    for(let i=1; i<nCells-1; i++){\n",
    "        console.log(`About to execute cell ${i}`);\n",
    "        Jupyter.notebook.execute_cells([i]);\n",
    "        console.log(`Cell ${i} finished, wait for 5 seconds`);\n",
    "        while (Jupyter.notebook.get_cell(i).element[0].childNodes[0].childNodes[0].textContent.includes(\"*\")){\n",
    "            console.log(\"Still running, wait for another 2 seconds\");\n",
    "            // wait for 2s\n",
    "            await sleep(2000);\n",
    "        }\n",
    "        await sleep(1000);   \n",
    "    }\n",
    "    console.log('Done');\n",
    "}\n",
    "\n",
    "runNotebook();\n",
    "\"\"\"\n",
    "Javascript(js_string)"
   ]
  }
 ],
 "metadata": {
  "finalized": {
   "timestamp": 1659128328299,
   "trusted": true
  },
  "kernelspec": {
   "display_name": "Py38(GSOC22)",
   "language": "python",
   "name": "py38_gsoc22"
  },
  "language_info": {
   "codemirror_mode": {
    "name": "ipython",
    "version": 3
   },
   "file_extension": ".py",
   "mimetype": "text/x-python",
   "name": "python",
   "nbconvert_exporter": "python",
   "pygments_lexer": "ipython3",
   "version": "3.8.12"
  },
  "require": {
   "paths": {
    "html2canvas": "https://html2canvas.hertzen.com/dist/html2canvas"
   },
   "shim": {}
  },
  "vscode": {
   "interpreter": {
    "hash": "43b52e66020a3206304124443c3dbfb478b19fdebbaacdf952e81bd31b11f0ba"
   }
  }
 },
 "nbformat": 4,
 "nbformat_minor": 5
}
